{
 "cells": [
  {
   "cell_type": "markdown",
   "metadata": {},
   "source": [
    "# Klassifikation \n",
    "\n",
    "In diesem Notebook trainieren wir einen Classifier. Aus Beispielen lernt der Classifier, zu welcher Klasse ein Element gehört, und kann neue Elemente mit den gelernten Regeln einordnen. \n",
    "\n",
    "Wir lesen zunächst Dokumente aus 4 Wikipedia-Kategorien ein."
   ]
  },
  {
   "cell_type": "markdown",
   "metadata": {},
   "source": [
    "### Texten sammeln (API)"
   ]
  },
  {
   "cell_type": "code",
   "execution_count": 2,
   "metadata": {},
   "outputs": [],
   "source": [
    "import SaveWiki\n",
    "\n",
    "SaveWiki.downloadWikiCat('Astronomisches Instrument','astroinstrument')\n",
    "SaveWiki.downloadWikiCat('Astronomie','astro')\n",
    "#SaveWiki.downloadWikiCat('Bösartige Tumorbildung','krebs')\n",
    "#SaveWiki.downloadWikiCat('Krankheitsbild in der Kardiologie','kardiologie')"
   ]
  },
  {
   "cell_type": "markdown",
   "metadata": {},
   "source": [
    "##### Texten aufmachen und lesen"
   ]
  },
  {
   "cell_type": "code",
   "execution_count": 5,
   "metadata": {},
   "outputs": [],
   "source": [
    "import codecs \n",
    "\n",
    "def readtext(dateiname):\n",
    "    text = ''\n",
    "    d = codecs.open(dateiname,'r','utf8')\n",
    "    for zeile in d:\n",
    "        text += str(zeile)\n",
    "    d.close()\n",
    "\n",
    "    return text"
   ]
  },
  {
   "cell_type": "code",
   "execution_count": 6,
   "metadata": {},
   "outputs": [
    {
     "name": "stdout",
     "output_type": "stream",
     "text": [
      "Als Adenokarzinom bezeichnet man einen bösartigen (malignen) von der Deckzellschicht (Epithel) ausgehenden Tumor, der aus Drüsengewebe hervorgegangen ist. Die gutartige (benigne) Zellveränderung von Drüsengewebe nennt man dagegen Adenom.\n",
      "Adenokarzinome kommen vor allem im Bereich der Verdauungsorgan\n"
     ]
    }
   ],
   "source": [
    "bsptext= readtext('krebs/Adenokarzinom.txt')\n",
    "print(bsptext[:300])"
   ]
  },
  {
   "cell_type": "markdown",
   "metadata": {},
   "source": [
    "### Merkmalen des Textes auswählen\n",
    "\n",
    "***stopwords ausschließen***\n",
    "\n",
    "***Zeichen ausschließen***\n",
    "\n",
    "***closed class words ausschließen***"
   ]
  },
  {
   "cell_type": "code",
   "execution_count": 3,
   "metadata": {},
   "outputs": [],
   "source": [
    "#stopwords"
   ]
  },
  {
   "cell_type": "code",
   "execution_count": 7,
   "metadata": {},
   "outputs": [],
   "source": [
    "import nltk\n",
    "import re\n",
    "from HanTa import HanoverTagger as ht\n",
    "from collections import Counter\n",
    "\n",
    "stopwords = nltk.corpus.stopwords.words('german')\n",
    "tagger = ht.HanoverTagger('morphmodel_ger.pgz')\n",
    "\n",
    "def closed_class(pos):\n",
    "    if pos[0] == '$':\n",
    "        return True\n",
    "    elif pos in [\"APPR\", \"APPRART\", \"APPO\", \"APZR\", \"ART\", \"KOUI\", \"KOUS\", \"KON\", \"KOKOM\", \"PDS\", \"PDAT\", \"PIS\", \"PIAT\", \"PIDAT\", \"PPER\", \"PPOSS\", \"PPOSAT\", \"PRELS\", \"PRELAT\", \"PRF\", \"PWS\", \"PWAT\", \"PWAV\", \"PAV\", \"PTKZU\", \"PTKNEG\", \"VAFIN\", \"VAIMP\", \"VAINF\", \"VAPP\", \"VMFIN\", \"VMINF\", \"VMPP\"]:\n",
    "        return True\n",
    "    \n",
    "    return False\n",
    "\n",
    "def features_from_text(text):\n",
    "    wordcounts = Counter()\n",
    "    tlen = 0\n",
    "    \n",
    "    satzliste =  nltk.sent_tokenize(text,language='german')\n",
    "    for satz in satzliste:\n",
    "        tokens =  nltk.word_tokenize(satz,language='german')\n",
    "        tokens = [lemma for (word,lemma,pos) in tagger.tag_sent(tokens) if not closed_class(pos)]\n",
    "        tokens = [t for t in tokens if t.lower() not in stopwords]\n",
    "        tokens = [t for t in tokens if re.search('^\\w+$',t)]\n",
    "        tlen += len(tokens)\n",
    "        wordcounts.update(tokens)\n",
    "\n",
    "    return {w:wordcounts[w]/tlen for w in wordcounts}"
   ]
  },
  {
   "cell_type": "markdown",
   "metadata": {},
   "source": [
    "Wir versuchen aus jede Klasse 50 Dokumente zu lesen, die nicht extrem kurz oder lang sind."
   ]
  },
  {
   "cell_type": "code",
   "execution_count": 9,
   "metadata": {},
   "outputs": [],
   "source": [
    "import glob\n",
    "\n",
    "def read_data(directories):\n",
    "    docs = []\n",
    "    for directory in directories:\n",
    "        dirsize = 0\n",
    "        for file in glob.glob(directory+\"/*.txt\"):\n",
    "            text = readtext(file)\n",
    "            if len(text) > 500 and len(text) < 10000:\n",
    "                docs.append((features_from_text(text),directory))\n",
    "                dirsize += 1\n",
    "            if dirsize >= 50:\n",
    "                break\n",
    "    return docs\n",
    "\n",
    "data = read_data(['infekt','krebs','pneumologie','kardiologie'])"
   ]
  },
  {
   "cell_type": "code",
   "execution_count": 10,
   "metadata": {},
   "outputs": [
    {
     "data": {
      "text/plain": [
       "200"
      ]
     },
     "execution_count": 10,
     "metadata": {},
     "output_type": "execute_result"
    }
   ],
   "source": [
    "len(data)"
   ]
  },
  {
   "cell_type": "markdown",
   "metadata": {},
   "source": [
    "Wir mischen die Daten und teilen in Test- und Trainingsdaten"
   ]
  },
  {
   "cell_type": "code",
   "execution_count": 6,
   "metadata": {},
   "outputs": [],
   "source": [
    "import random\n",
    "\n",
    "random.shuffle(data)\n",
    "train_data = data[:160]\n",
    "test_data = data[160:]"
   ]
  },
  {
   "cell_type": "markdown",
   "metadata": {},
   "source": [
    "Wir schauen uns jetzt mal ein Dokument an:"
   ]
  },
  {
   "cell_type": "code",
   "execution_count": 7,
   "metadata": {},
   "outputs": [
    {
     "data": {
      "text/plain": [
       "({'Leiomyosarkom': 0.027874564459930314,\n",
       "  'griech': 0.003484320557491289,\n",
       "  'lī': 0.003484320557491289,\n",
       "  'ō': 0.003484320557491289,\n",
       "  'sanft': 0.003484320557491289,\n",
       "  'μυς': 0.003484320557491289,\n",
       "  'mys': 0.003484320557491289,\n",
       "  'σάρκωμα': 0.003484320557491289,\n",
       "  'sárkoma': 0.003484320557491289,\n",
       "  'σάρξ': 0.003484320557491289,\n",
       "  'sárx': 0.003484320557491289,\n",
       "  'Fleisch': 0.003484320557491289,\n",
       "  'weichteile': 0.003484320557491289,\n",
       "  'Geschwulst': 0.003484320557491289,\n",
       "  'bösartig': 0.010452961672473868,\n",
       "  'Maligner': 0.003484320557491289,\n",
       "  'Tumor': 0.020905923344947737,\n",
       "  'glatt': 0.006968641114982578,\n",
       "  'Muskulatur': 0.006968641114982578,\n",
       "  'ausgehen': 0.006968641114982578,\n",
       "  'etwa': 0.006968641114982578,\n",
       "  '1': 0.003484320557491289,\n",
       "  'Gebärmuttergeschwülste': 0.003484320557491289,\n",
       "  'treten': 0.006968641114982578,\n",
       "  'meist': 0.010452961672473868,\n",
       "  '30': 0.006968641114982578,\n",
       "  'Lebensjahr': 0.003484320557491289,\n",
       "  'Altersgipfel': 0.003484320557491289,\n",
       "  '6': 0.003484320557491289,\n",
       "  'Lebensdekade': 0.003484320557491289,\n",
       "  'Symptom': 0.006968641114982578,\n",
       "  'unspezifisch': 0.006968641114982578,\n",
       "  'kommen': 0.003484320557491289,\n",
       "  'Lokalisation': 0.010452961672473868,\n",
       "  'Gebärmutter': 0.010452961672473868,\n",
       "  'rasch': 0.003484320557491289,\n",
       "  'Gebärmuttervergrößerung': 0.003484320557491289,\n",
       "  'Blutung': 0.003484320557491289,\n",
       "  'Leiomyosarkome': 0.010452961672473868,\n",
       "  'Stelle': 0.003484320557491289,\n",
       "  'Z': 0.006968641114982578,\n",
       "  'Haarbalgmuskeln': 0.003484320557491289,\n",
       "  'somit': 0.003484320557491289,\n",
       "  'prinzipiell': 0.003484320557491289,\n",
       "  'gesamt': 0.003484320557491289,\n",
       "  'Körperoberfläche': 0.003484320557491289,\n",
       "  'auftreten': 0.006968641114982578,\n",
       "  'Pathologie': 0.006968641114982578,\n",
       "  'Embryonalentwicklung': 0.003484320557491289,\n",
       "  'entwickeln': 0.003484320557491289,\n",
       "  'sogenannter': 0.003484320557491289,\n",
       "  'Mesoderm': 0.003484320557491289,\n",
       "  'Bewegungsapparat': 0.003484320557491289,\n",
       "  'Knochen': 0.003484320557491289,\n",
       "  'Muskel': 0.003484320557491289,\n",
       "  'Weichteile': 0.003484320557491289,\n",
       "  'Lymphgefäßsystem': 0.003484320557491289,\n",
       "  'Gewebetypen': 0.003484320557491289,\n",
       "  'ausgereift': 0.003484320557491289,\n",
       "  'Zustand': 0.003484320557491289,\n",
       "  'mesenchymal': 0.006968641114982578,\n",
       "  'Gewebe': 0.006968641114982578,\n",
       "  'bezeichnen': 0.006968641114982578,\n",
       "  'nahezu': 0.003484320557491289,\n",
       "  'malign': 0.003484320557491289,\n",
       "  'Geweben': 0.003484320557491289,\n",
       "  'entstehen': 0.003484320557491289,\n",
       "  'Sarkome': 0.006968641114982578,\n",
       "  'metastasiert': 0.003484320557491289,\n",
       "  'vorwiegend': 0.003484320557491289,\n",
       "  'Blutweg': 0.003484320557491289,\n",
       "  'früh': 0.003484320557491289,\n",
       "  'vermuten': 0.003484320557491289,\n",
       "  'gutartig': 0.003484320557491289,\n",
       "  'Leiomyom': 0.006968641114982578,\n",
       "  'entarten': 0.003484320557491289,\n",
       "  'zeigen': 0.003484320557491289,\n",
       "  'aktuell': 0.003484320557491289,\n",
       "  'Studium': 0.003484320557491289,\n",
       "  'unwahrscheinlich': 0.003484320557491289,\n",
       "  'ebenso': 0.003484320557491289,\n",
       "  'geben': 0.003484320557491289,\n",
       "  'Hinweis': 0.006968641114982578,\n",
       "  'darauf': 0.003484320557491289,\n",
       "  'vorausgehend': 0.003484320557491289,\n",
       "  'Bestrahlung': 0.003484320557491289,\n",
       "  'Risikofaktor': 0.003484320557491289,\n",
       "  'darstellen': 0.003484320557491289,\n",
       "  'selten': 0.006968641114982578,\n",
       "  'Rahmen': 0.003484320557491289,\n",
       "  'hereditär': 0.003484320557491289,\n",
       "  'Retinoblastom': 0.003484320557491289,\n",
       "  'finden': 0.017421602787456445,\n",
       "  'Veränderung': 0.003484320557491289,\n",
       "  'Diagnose': 0.010452961672473868,\n",
       "  'Zufallsbefund': 0.003484320557491289,\n",
       "  'Grund': 0.003484320557491289,\n",
       "  'Operation': 0.006968641114982578,\n",
       "  'notwendig': 0.003484320557491289,\n",
       "  'Operationspräparat': 0.003484320557491289,\n",
       "  'normalerweise': 0.003484320557491289,\n",
       "  'unterscheiden': 0.003484320557491289,\n",
       "  'gegebenenfalls': 0.003484320557491289,\n",
       "  'auftretend': 0.003484320557491289,\n",
       "  'Nekrosen': 0.003484320557491289,\n",
       "  'Dignität': 0.003484320557491289,\n",
       "  'liefern': 0.003484320557491289,\n",
       "  'weiterhin': 0.003484320557491289,\n",
       "  'Infiltration': 0.003484320557491289,\n",
       "  'umliegend': 0.003484320557491289,\n",
       "  'Myometrium': 0.003484320557491289,\n",
       "  'Endometrium': 0.003484320557491289,\n",
       "  'Parametrium': 0.003484320557491289,\n",
       "  'malignomverdächtig': 0.003484320557491289,\n",
       "  'Histologie': 0.003484320557491289,\n",
       "  'vielgestaltig': 0.003484320557491289,\n",
       "  'Zellkerne': 0.003484320557491289,\n",
       "  'Riesenzellen': 0.003484320557491289,\n",
       "  'relevant': 0.003484320557491289,\n",
       "  'Kriterium': 0.003484320557491289,\n",
       "  'bleiben': 0.003484320557491289,\n",
       "  'Mitosereichtum': 0.003484320557491289,\n",
       "  '10': 0.010452961672473868,\n",
       "  'Mitosen': 0.003484320557491289,\n",
       "  'Gesichtsfeldern': 0.003484320557491289,\n",
       "  '400fach': 0.003484320557491289,\n",
       "  'Vergrößerung': 0.003484320557491289,\n",
       "  'gleichzeitig': 0.003484320557491289,\n",
       "  'vorkommend': 0.003484320557491289,\n",
       "  'Vielgestaltigkeit': 0.003484320557491289,\n",
       "  'Zelle': 0.003484320557491289,\n",
       "  'Zellpolymorphie': 0.003484320557491289,\n",
       "  'Therapie': 0.006968641114982578,\n",
       "  'ausreichend': 0.003484320557491289,\n",
       "  'Chemotherapie': 0.003484320557491289,\n",
       "  'Strahlentherapie': 0.003484320557491289,\n",
       "  'ansprechen': 0.003484320557491289,\n",
       "  'stehen': 0.003484320557491289,\n",
       "  'Mittelpunkt': 0.003484320557491289,\n",
       "  'existieren': 0.003484320557491289,\n",
       "  'gegenwärtig': 0.003484320557491289,\n",
       "  'verbindlich': 0.003484320557491289,\n",
       "  'Standard': 0.003484320557491289,\n",
       "  'einerseits': 0.003484320557491289,\n",
       "  'heterogen': 0.003484320557491289,\n",
       "  'Gruppe': 0.003484320557491289,\n",
       "  'gehören': 0.006968641114982578,\n",
       "  'andererseits': 0.003484320557491289,\n",
       "  'Auftreten': 0.006968641114982578,\n",
       "  'Fall': 0.006968641114982578,\n",
       "  'Metastasen': 0.010452961672473868,\n",
       "  'Eierstöcken': 0.003484320557491289,\n",
       "  'daher': 0.003484320557491289,\n",
       "  'Mitentfernung': 0.003484320557491289,\n",
       "  'Eierstöcke': 0.003484320557491289,\n",
       "  'anbringen': 0.003484320557491289,\n",
       "  'Ovariohysterektomie': 0.003484320557491289,\n",
       "  '3': 0.003484320557491289,\n",
       "  '5': 0.003484320557491289,\n",
       "  'diagnostiziert': 0.003484320557491289,\n",
       "  'groß': 0.003484320557491289,\n",
       "  'Netz': 0.003484320557491289,\n",
       "  'Omentum': 0.003484320557491289,\n",
       "  'majus': 0.003484320557491289,\n",
       "  '4': 0.003484320557491289,\n",
       "  '35': 0.003484320557491289,\n",
       "  'Betroffen': 0.003484320557491289,\n",
       "  'befallen': 0.003484320557491289,\n",
       "  'Lymphknoten': 0.006968641114982578,\n",
       "  'Becken': 0.003484320557491289,\n",
       "  'Hauptschlagader': 0.003484320557491289,\n",
       "  'Entfernung': 0.003484320557491289,\n",
       "  'scheinen': 0.003484320557491289,\n",
       "  'jedoch': 0.003484320557491289,\n",
       "  'Lebensverlängerung': 0.003484320557491289,\n",
       "  'bringen': 0.003484320557491289,\n",
       "  'führen': 0.003484320557491289,\n",
       "  '50': 0.006968641114982578,\n",
       "  '70': 0.003484320557491289,\n",
       "  'erneut': 0.006968641114982578,\n",
       "  'meistens': 0.006968641114982578,\n",
       "  'erster': 0.003484320557491289,\n",
       "  'zwei': 0.003484320557491289,\n",
       "  'Jahr': 0.006968641114982578,\n",
       "  'bilden': 0.003484320557491289,\n",
       "  'Lunge': 0.003484320557491289,\n",
       "  'schlecht': 0.003484320557491289,\n",
       "  'Prognose': 0.003484320557491289,\n",
       "  'lediglich': 0.003484320557491289,\n",
       "  'leiomyosarkome': 0.003484320557491289,\n",
       "  'gefährlich': 0.003484320557491289,\n",
       "  'Typ': 0.003484320557491289,\n",
       "  'gut': 0.003484320557491289,\n",
       "  'Überlebensrate': 0.003484320557491289,\n",
       "  'schreiten': 0.003484320557491289,\n",
       "  'langsam': 0.003484320557491289,\n",
       "  'fort': 0.003484320557491289,\n",
       "  'erst': 0.003484320557491289,\n",
       "  'betroffen': 0.003484320557491289,\n",
       "  'Patientinnen': 0.003484320557491289,\n",
       "  'lang': 0.003484320557491289,\n",
       "  'Lebenserwartung': 0.003484320557491289,\n",
       "  'insgesamt': 0.003484320557491289,\n",
       "  'gehen': 0.003484320557491289,\n",
       "  'Quelle': 0.003484320557491289,\n",
       "  'Riede': 0.003484320557491289,\n",
       "  'allgemein': 0.003484320557491289,\n",
       "  'speziell': 0.003484320557491289,\n",
       "  'neubearb': 0.003484320557491289,\n",
       "  'Auflage': 0.006968641114982578,\n",
       "  'Thieme': 0.003484320557491289,\n",
       "  'New': 0.003484320557491289,\n",
       "  'York': 0.003484320557491289,\n",
       "  'Isbn': 0.006968641114982578,\n",
       "  's': 0.003484320557491289,\n",
       "  'Robbins': 0.006968641114982578,\n",
       "  'Basic': 0.003484320557491289,\n",
       "  'Pathology': 0.003484320557491289,\n",
       "  '8': 0.003484320557491289,\n",
       "  'Elsevier': 0.003484320557491289,\n",
       "  'Saunders': 0.003484320557491289,\n",
       "  'Philadelphia': 0.003484320557491289,\n",
       "  '2007': 0.003484320557491289,\n",
       "  'einzelnachweise': 0.003484320557491289},\n",
       " 'krebs')"
      ]
     },
     "execution_count": 7,
     "metadata": {},
     "output_type": "execute_result"
    }
   ],
   "source": [
    "len(train_data[27])"
   ]
  },
  {
   "cell_type": "markdown",
   "metadata": {},
   "source": [
    "Wir haben jetzt für jedes Dokument einene Merkmalsvektor. Man merke: der Vektor ist eigentlich so lang wie die Anzahl der unterschiedlichen Wörter in der ganzen Sammlung. Alle Wörter, die nicht erwähnt werden haben den Wert 0. \n",
    "\n",
    "Wörter, die nur in ein oder zwei Dokumementen vorkommen sind, für die Klassifikation nicht besonders nützlich. \n",
    "Wir nutzen nachher nur die Wörter, die in mindestens 5 Dokumente vorkommen. Um das vorzubereiten, berechnen wir für alle Wörter die Dokumentfrequenz>"
   ]
  },
  {
   "cell_type": "code",
   "execution_count": 8,
   "metadata": {},
   "outputs": [],
   "source": [
    "docfreq = Counter()\n",
    "for (wfreq,c) in train_data:\n",
    "    docfreq.update(wfreq.keys())"
   ]
  },
  {
   "cell_type": "code",
   "execution_count": 21,
   "metadata": {},
   "outputs": [],
   "source": [
    "#docfreq"
   ]
  },
  {
   "cell_type": "markdown",
   "metadata": {},
   "source": [
    "## Klassifikation mit Scikit Learn\n",
    "\n",
    "Die Bibliothek Scikit Learn stellt verschiedene Klassifikationsmodelle zur Verfügung. Wir müssen jetzt richtige Merkmalsvektoren aufbauen, bei denen die Position die Bedeutung einer Zahl bestimmt. Dazu machen wir erst eine feste Liste mit allen Wörtern. Wörter, die zu selten sind lassen wir weg."
   ]
  },
  {
   "cell_type": "code",
   "execution_count": 9,
   "metadata": {},
   "outputs": [],
   "source": [
    "from sklearn import linear_model, datasets\n",
    "\n",
    "\n",
    "allfeatures = [w for w in docfreq if docfreq[w] > 4]\n",
    "\n",
    "def make_feat_vec(featmap,featlist):\n",
    "    vec = []\n",
    "    for f in featlist:\n",
    "        vec.append(featmap.get(f,0.0))\n",
    "    return vec\n",
    "\n",
    "train_vec =  [make_feat_vec(feats,allfeatures) for feats,cls in train_data]\n",
    "train_label = [cls for feats,cls in train_data]"
   ]
  },
  {
   "cell_type": "markdown",
   "metadata": {},
   "source": [
    "Wir schauen uns mal einen Vektor an:"
   ]
  },
  {
   "cell_type": "code",
   "execution_count": 22,
   "metadata": {},
   "outputs": [],
   "source": [
    "#train_vec[137]"
   ]
  },
  {
   "cell_type": "code",
   "execution_count": 11,
   "metadata": {},
   "outputs": [
    {
     "data": {
      "text/plain": [
       "'kardiologie'"
      ]
     },
     "execution_count": 11,
     "metadata": {},
     "output_type": "execute_result"
    }
   ],
   "source": [
    "train_label[137]"
   ]
  },
  {
   "cell_type": "markdown",
   "metadata": {},
   "source": [
    "Ein einfaches, aber effektives Klassifikationsmodell, das meistens gute Ergebnisse liefert, ist die logistische Regression."
   ]
  },
  {
   "cell_type": "code",
   "execution_count": 12,
   "metadata": {},
   "outputs": [
    {
     "name": "stderr",
     "output_type": "stream",
     "text": [
      "[Parallel(n_jobs=1)]: Using backend SequentialBackend with 1 concurrent workers.\n",
      "C:\\Users\\r71-dn9-u1\\Anaconda3\\lib\\site-packages\\sklearn\\linear_model\\_logistic.py:762: ConvergenceWarning: lbfgs failed to converge (status=1):\n",
      "STOP: TOTAL NO. of ITERATIONS REACHED LIMIT.\n",
      "\n",
      "Increase the number of iterations (max_iter) or scale the data as shown in:\n",
      "    https://scikit-learn.org/stable/modules/preprocessing.html\n",
      "Please also refer to the documentation for alternative solver options:\n",
      "    https://scikit-learn.org/stable/modules/linear_model.html#logistic-regression\n",
      "  n_iter_i = _check_optimize_result(\n",
      "[Parallel(n_jobs=1)]: Done   1 out of   1 | elapsed:    0.1s finished\n"
     ]
    },
    {
     "data": {
      "text/plain": [
       "LogisticRegression(C=1000000000.0, verbose=True)"
      ]
     },
     "execution_count": 12,
     "metadata": {},
     "output_type": "execute_result"
    }
   ],
   "source": [
    "logreg = linear_model.LogisticRegression(C=1e9,verbose=True)\n",
    "logreg.fit(train_vec,train_label)"
   ]
  },
  {
   "cell_type": "markdown",
   "metadata": {},
   "source": [
    "Wir können jetzt mit dem trainierten Classifier ein neues Dokument klassifizieren:"
   ]
  },
  {
   "cell_type": "code",
   "execution_count": 13,
   "metadata": {},
   "outputs": [
    {
     "data": {
      "text/plain": [
       "array(['krebs'], dtype='<U11')"
      ]
     },
     "execution_count": 13,
     "metadata": {},
     "output_type": "execute_result"
    }
   ],
   "source": [
    "v = make_feat_vec(test_data[17][0],allfeatures) \n",
    "logreg.predict([v])"
   ]
  },
  {
   "cell_type": "markdown",
   "metadata": {},
   "source": [
    "Richtig ist:"
   ]
  },
  {
   "cell_type": "code",
   "execution_count": 14,
   "metadata": {},
   "outputs": [
    {
     "data": {
      "text/plain": [
       "'krebs'"
      ]
     },
     "execution_count": 14,
     "metadata": {},
     "output_type": "execute_result"
    }
   ],
   "source": [
    "test_data[17][1]"
   ]
  },
  {
   "cell_type": "markdown",
   "metadata": {},
   "source": [
    "Oder direkt für alles Testdaten:"
   ]
  },
  {
   "cell_type": "code",
   "execution_count": 15,
   "metadata": {},
   "outputs": [],
   "source": [
    "test_vec = [make_feat_vec(feats,allfeatures) for feats,cls in test_data]\n",
    "test_label = [cls for feats,cls in test_data]\n",
    "\n",
    "pred_label = list(logreg.predict(test_vec))"
   ]
  },
  {
   "cell_type": "code",
   "execution_count": 16,
   "metadata": {},
   "outputs": [
    {
     "name": "stdout",
     "output_type": "stream",
     "text": [
      "80.0 Prozent korrekt\n"
     ]
    }
   ],
   "source": [
    "correct = 0\n",
    "for i in range(len(test_label)):\n",
    "    if test_label[i] == pred_label[i]:\n",
    "        correct+=1\n",
    "print(\"{0:.1f} Prozent korrekt\".format(100* float(correct)/len(test_label)))"
   ]
  },
  {
   "cell_type": "markdown",
   "metadata": {},
   "source": [
    "### Evaluation"
   ]
  },
  {
   "cell_type": "markdown",
   "metadata": {},
   "source": [
    "Wo sind aber die Fehler aufgetreten? Un diese Frage zu beantworten, ist sogenannte eine _Konfusionsmatrix_ sehr hilfreich. NLTK hat eine Funktion zum erstellen eines Konfusionsmatrizen:"
   ]
  },
  {
   "cell_type": "code",
   "execution_count": 17,
   "metadata": {},
   "outputs": [
    {
     "name": "stdout",
     "output_type": "stream",
     "text": [
      "            |     k     p |\n",
      "            |     a     n |\n",
      "            |     r     e |\n",
      "            |     d     u |\n",
      "            |     i     m |\n",
      "            |  i  o     o |\n",
      "            |  n  l  k  l |\n",
      "            |  f  o  r  o |\n",
      "            |  e  g  e  g |\n",
      "            |  k  i  b  i |\n",
      "            |  t  e  s  e |\n",
      "------------+-------------+\n",
      "     infekt |<10> .  .  . |\n",
      "kardiologie |  . <8> .  6 |\n",
      "      krebs |  .  . <6> . |\n",
      "pneumologie |  2  .  . <8>|\n",
      "------------+-------------+\n",
      "(row = reference; col = test)\n",
      "\n"
     ]
    }
   ],
   "source": [
    "cm = nltk.ConfusionMatrix(test_label, pred_label)\n",
    "print(cm)"
   ]
  },
  {
   "cell_type": "markdown",
   "metadata": {},
   "source": [
    "Es gibt verschiedene andere Klassifikatorn, die wie nutzen können:"
   ]
  },
  {
   "cell_type": "code",
   "execution_count": 18,
   "metadata": {},
   "outputs": [
    {
     "name": "stdout",
     "output_type": "stream",
     "text": [
      "50.0 Prozent korrekt\n"
     ]
    }
   ],
   "source": [
    "from sklearn import neighbors\n",
    "knn = neighbors.KNeighborsClassifier(n_neighbors = 3)\n",
    "knn.fit(train_vec,train_label)\n",
    "pred_label = list(knn.predict(test_vec))\n",
    "correct = 0\n",
    "for i in range(len(test_label)):\n",
    "    if test_label[i] == pred_label[i]:\n",
    "        correct+=1\n",
    "print(\"{0:.1f} Prozent korrekt\".format(100* float(correct)/len(test_label)))"
   ]
  },
  {
   "cell_type": "code",
   "execution_count": 19,
   "metadata": {},
   "outputs": [
    {
     "name": "stdout",
     "output_type": "stream",
     "text": [
      "80.0 Prozent korrekt\n"
     ]
    }
   ],
   "source": [
    "from sklearn import ensemble\n",
    "rf = ensemble.RandomForestClassifier()\n",
    "rf.fit(train_vec,train_label)\n",
    "pred_label = list(rf.predict(test_vec))\n",
    "correct = 0\n",
    "for i in range(len(test_label)):\n",
    "    if test_label[i] == pred_label[i]:\n",
    "        correct+=1\n",
    "print(\"{0:.1f} Prozent korrekt\".format(100* float(correct)/len(test_label)))"
   ]
  },
  {
   "cell_type": "code",
   "execution_count": null,
   "metadata": {},
   "outputs": [],
   "source": []
  },
  {
   "cell_type": "code",
   "execution_count": null,
   "metadata": {},
   "outputs": [],
   "source": []
  }
 ],
 "metadata": {
  "kernelspec": {
   "display_name": "Python 3",
   "language": "python",
   "name": "python3"
  },
  "language_info": {
   "codemirror_mode": {
    "name": "ipython",
    "version": 3
   },
   "file_extension": ".py",
   "mimetype": "text/x-python",
   "name": "python",
   "nbconvert_exporter": "python",
   "pygments_lexer": "ipython3",
   "version": "3.8.3"
  }
 },
 "nbformat": 4,
 "nbformat_minor": 2
}
