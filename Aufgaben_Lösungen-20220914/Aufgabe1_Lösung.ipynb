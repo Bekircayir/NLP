{
 "cells": [
  {
   "cell_type": "markdown",
   "metadata": {},
   "source": [
    "### Richtige Kodierung finden"
   ]
  },
  {
   "cell_type": "code",
   "execution_count": 1,
   "metadata": {},
   "outputs": [
    {
     "name": "stdout",
     "output_type": "stream",
     "text": [
      "An diesem Montagabend um 18.00 Uhr will der CDU-Bundesvorstand in einer digitalen Sondersitzung über den Stand und das weitere Vorgehen in der Kanzlerkandidatur der Union beraten.\n",
      "«Ich werde dem Bundesvorstand einen Vorschlag machen, wie wir jetzt sehr schnell die nicht geklärte Frage zwischen CDU und CSU auflösen», kündigte der Parteivorsitzende Armin Laschet an. Er hoffe, dass man dann «sehr schnell in dieser Woche» zu den erforderlichen Entscheidungen komme.\n",
      "«Ich finde, wir müssen viel im G \n",
      "\n"
     ]
    }
   ],
   "source": [
    "import codecs\n",
    "\n",
    "#Datei aufmachen/Text lesen\n",
    "datei = codecs.open('Texte/malek2.txt','r','ansi')\n",
    "text = datei.read()\n",
    "datei.close()\n",
    "print(text[:500], '\\n')"
   ]
  },
  {
   "cell_type": "markdown",
   "metadata": {},
   "source": [
    "### Dann Text in UTF8 speichern"
   ]
  },
  {
   "cell_type": "code",
   "execution_count": 2,
   "metadata": {},
   "outputs": [
    {
     "name": "stdout",
     "output_type": "stream",
     "text": [
      "---------------------------------------------- \n",
      "\n",
      "An diesem Montagabend um 18.00 Uhr will der CDU-Bundesvorstand in einer digitalen Sondersitzung über den Stand und das weitere Vorgehen in der Kanzlerkandidatur der Union beraten.\n",
      "«Ich werde dem Bundesvorstand einen Vorschlag machen, wie wir jetzt sehr schnell die nicht geklärte Frage zwischen CDU und CSU auflösen», kündigte der Parteivorsitzende Armin Laschet an. Er hoffe, dass man dann «sehr schnell in dieser Woche» zu den erforderlichen Entscheidungen komme.\n",
      "«Ich finde, wir müssen viel im G\n"
     ]
    }
   ],
   "source": [
    "import codecs\n",
    "\n",
    "#Datei schreiben\n",
    "out=codecs.open('Textout/malek2-utf8.txt','w', 'utf8')\n",
    "print(text,file=out)\n",
    "out.close()\n",
    "\n",
    "# schecken wir, ob es gut ging. \n",
    "\n",
    "dateiout = codecs.open('Textout/malek2-utf8.txt','r','utf8')\n",
    "textout = dateiout.read()\n",
    "print('----------------------------------------------', '\\n')\n",
    "print(textout[:500])"
   ]
  },
  {
   "cell_type": "markdown",
   "metadata": {},
   "source": [
    "#### Wiederholen wir für die andere Texte:"
   ]
  },
  {
   "cell_type": "markdown",
   "metadata": {},
   "source": [
    "## TEXT= Stress.txt"
   ]
  },
  {
   "cell_type": "code",
   "execution_count": 95,
   "metadata": {},
   "outputs": [
    {
     "name": "stdout",
     "output_type": "stream",
     "text": [
      "Macht Stress die Haare grau?\n",
      "\n",
      "Wenn die Tochter knutscht oder der Sohnemann nach Haschisch riecht, kriegen Eltern graue Haare. Behaupten sie zumindest. Aber liegt das wirklich an zu viel Stress und Sorgen, oder sind ganz andere Faktoren verantwortlich? \n",
      "\n",
      "Haare werden grau, wenn sich sogenannte Melanozyten zurückbilden. Diese Zellen produzieren das Pigment Melanin, das für die Färbung des Haares verantwortlich ist. Kann das wirklich durch Ärger oder Stress geschehen? \"Wissenschaftlich kann man \n",
      "\n",
      "---------------------------------------------- \n",
      "\n",
      "Macht Stress die Haare grau?\n",
      "\n",
      "Wenn die Tochter knutscht oder der Sohnemann nach Haschisch riecht, kriegen Eltern graue Haare. Behaupten sie zumindest. Aber liegt das wirklich an zu viel Stress und Sorgen, oder sind ganz andere Faktoren verantwortlich? \n",
      "\n",
      "Haare werden grau, wenn sich sogenannte Melanozyten zurückbilden. Diese Zellen produzieren das Pigment Melanin, das für die Färbung des Haares verantwortlich ist. Kann das wirklich durch Ärger oder Stress geschehen? \"Wissenschaftlich kann man\n"
     ]
    }
   ],
   "source": [
    "datei = codecs.open('Texte/Stress.txt','r','utf8')\n",
    "text = datei.read()\n",
    "datei.close()\n",
    "print(text[:500], '\\n')\n",
    "out=codecs.open('Stress-utf8.txt','w', 'utf8')\n",
    "print(text,file=out)\n",
    "datei.close()\n",
    "out.close()\n",
    "\n",
    "dateiout = codecs.open('Stress-utf8.txt','r','utf8')\n",
    "textout = dateiout.read()\n",
    "print('----------------------------------------------', '\\n')\n",
    "print(textout[:500])"
   ]
  },
  {
   "cell_type": "markdown",
   "metadata": {},
   "source": [
    "## Text: Körperzelle.txt"
   ]
  },
  {
   "cell_type": "code",
   "execution_count": 98,
   "metadata": {},
   "outputs": [
    {
     "name": "stdout",
     "output_type": "stream",
     "text": [
      "Woher kennt eine Körperzelle ihre Funktion?\n",
      "\n",
      "Haut, Knochen, Gewebe, Organe: Unser Körper besteht aus Milliarden Zellen. Sie bekämpfen Viren, bewegen unsere Muskeln und lassen uns wachsen. Doch woher weiß eine Zelle, dass sie für den Haarwuchs zuständig ist und nicht für den Herzschlag? \n",
      "\n",
      "\n",
      "\n",
      "Der menschliche Körper besteht aus Milliarden von Zellen, alle tragen in ihrem Zellkern denselben Bauplan des gesamten Körpers. Trotzdem sind sie nicht alle gleich: Es gibt Herzzellen, Hautzellen, Nerven \n",
      "\n",
      "---------------------------------------------- \n",
      "\n",
      "Woher kennt eine Körperzelle ihre Funktion?\n",
      "\n",
      "Haut, Knochen, Gewebe, Organe: Unser Körper besteht aus Milliarden Zellen. Sie bekämpfen Viren, bewegen unsere Muskeln und lassen uns wachsen. Doch woher weiß eine Zelle, dass sie für den Haarwuchs zuständig ist und nicht für den Herzschlag? \n",
      "\n",
      "\n",
      "\n",
      "Der menschliche Körper besteht aus Milliarden von Zellen, alle tragen in ihrem Zellkern denselben Bauplan des gesamten Körpers. Trotzdem sind sie nicht alle gleich: Es gibt Herzzellen, Hautzellen, Nerven\n"
     ]
    }
   ],
   "source": [
    "datei = codecs.open('Texte/Körperzelle.txt','r','cp850')\n",
    "text = datei.read()\n",
    "datei.close()\n",
    "print(text[:500], '\\n')\n",
    "out=codecs.open('Körperzelle-utf8.txt','w', 'utf8')\n",
    "print(text,file=out)\n",
    "datei.close()\n",
    "out.close()\n",
    "dateiout = codecs.open('körperzelle-utf8.txt','r','utf8')\n",
    "textout = dateiout.read()\n",
    "print('----------------------------------------------', '\\n')\n",
    "print(textout[:500])"
   ]
  },
  {
   "cell_type": "markdown",
   "metadata": {},
   "source": [
    "## Text: Händewaschen"
   ]
  },
  {
   "cell_type": "code",
   "execution_count": 73,
   "metadata": {},
   "outputs": [
    {
     "name": "stdout",
     "output_type": "stream",
     "text": [
      "Befreit warmes Wasser besser von Keimen?\n",
      "\n",
      "Wer Triefnase, Husten und Kopfschmerzen entgehen will, sollte sich konsequent die Hände waschen. Warmes Wasser und Seife, empfehlen Experten. Aber ist warmes Wasser tatsächlich besser als kaltes? \n",
      "\n",
      "\n",
      "Der neurotische Physikprofessor Boris Yellnikoff singt zweimal laut \"Happy Birthday\", wenn er sich die Hände wäscht. Das vernichtet alle Keime, meint er. Im Prinzip hat der Kauz aus Woody Allens Film \"Whatever Works\" Recht: Denn zweimal \"Happy Birthday\" dauert etwa 30 Sekunden. Und so lange sollte man sich seine Hände mit Seife und warmen Wasser reinigen. Das verringere die Wahrscheinlichkeit einer Infektion, sagen Experten. Doch spielt die Wassertemperatur tatsächlich eine Rolle?\n",
      "\n",
      "\"Alles, was hilft, Partikel von der Hautoberfläche wegzuspülen, macht Sinn\", sagt Axel Kramer, Direktor des Instituts für Hygiene und Umweltmedizin an der Universität Greifswald. \"Und warmes Wasser ist ein besseres Lösungsmittel als kaltes.\"\n",
      "\n",
      "Dieses Prinzip kennt\n"
     ]
    }
   ],
   "source": [
    "datei = codecs.open('Texte/Händewaschen.txt','r','cp850')\n",
    "text = datei.read()\n",
    "datei.close()\n",
    "print(text[:1000])\n",
    "out=codecs.open('Händewaschen-utf8.txt','w', 'utf8')\n",
    "print(text,file=out)\n",
    "datei.close()\n",
    "out.close()"
   ]
  },
  {
   "cell_type": "markdown",
   "metadata": {},
   "source": [
    "## Text: Bleistift"
   ]
  },
  {
   "cell_type": "code",
   "execution_count": 74,
   "metadata": {},
   "outputs": [
    {
     "name": "stdout",
     "output_type": "stream",
     "text": [
      "Wie kommt die Mine in den Bleistift?\n",
      "\n",
      "Jeder hat ihn schon mal angespitzt, fallen gelassen und ihm sein schwarzes Herz gebrochen: den Bleistift. Doch seit wann gibt es überhaupt den Bleier? Ist da wirklich Blei drin - und wie kommt eigentlich die grau-schwarze Mine in die hölzerne Hülle?\n",
      "\n",
      "\n",
      "Der heutige Bleistift ist ein Etikettenschwindel: Schon seit Jahrhunderten besteht seine Mine nicht mehr aus Blei, sondern aus einer Graphitmischung. Das ist dunkler, einfacher herzustellen, gesünder und günstiger. Graphit verdrängte bereits im 16. Jahrhundert das Blei, genauer gesagt, das bleihaltige Erz Galenit.\n",
      "\n",
      "In der Antike schrieben Menschen erstmals mit einem echten Bleistift. Schon die alten Ägypter sollen flüssiges Blei in hohle Schilfrohre gegossen haben. Damit hatten sie eine Hülle am Schreibwerkzeug - sofern sie die Herstellung überstand. Auch die Griechen und Römer beschrieben später gern Pergament oder Papyrus mit dem weichen Metall. Schiebt man es über eine raue Unterlage, so rei\n"
     ]
    }
   ],
   "source": [
    "datei = codecs.open('Texte/Bleistift.txt','r','cp1252')\n",
    "text = datei.read()\n",
    "datei.close()\n",
    "print(text[:1000])\n",
    "out=codecs.open('Bleistift-utf8.txt','w', 'utf8')\n",
    "print(text,file=out)\n",
    "datei.close()\n",
    "out.close()"
   ]
  },
  {
   "cell_type": "markdown",
   "metadata": {},
   "source": [
    "## Text: Nachtmilch"
   ]
  },
  {
   "cell_type": "code",
   "execution_count": 75,
   "metadata": {},
   "outputs": [
    {
     "name": "stdout",
     "output_type": "stream",
     "text": [
      "Hilft Nachtmilch wirklich beim Schlafen?\n",
      "\n",
      "3 Uhr morgens und noch immer kein Auge zugetan: Manche schwören auf Baldrian, Ruhe oder Alkoholverzicht, andere vertrauen auf sogenannte Nachtmilch, die bei Kühen im Dunkeln gemolken wurde. Nur was hilft wirklich bei Schlafstörungen? \n",
      "\n",
      "\n",
      "\n",
      "Man fühlt sich müde, muss dauernd gähnen - trotzdem ist an Schlaf nicht zu denken. Lauwarme Fußbäder oder Kamillentee mit Baldrian helfen meist nicht weiter. Schnelle Hilfe versprechen Hersteller sogenannter Nachtmilchkristalle. Diese werden aus Kuhmilch gewonnen, die erst nach Sonnenuntergang gemolken wurde. Die Nachtmilch enthält angeblich deutlich mehr vom natürlichen Schlafhormon Melatonin als normale Milch. Im Milchpulver aus Nachtmilchkristallen sei dieser Gehalt sogar bis zu hundertmal höher. Einfach in Milch oder Joghurt eingerührt, soll das Präparat für einen erholsamen Schlummer sorgen und bei Jetlag wirken. Aber stimmt das wirklich?\n",
      "\n",
      "\"Nein\", sagt Björn Lemmer vom Institut für Experimentelle u\n"
     ]
    }
   ],
   "source": [
    "datei = codecs.open('Texte/Nachtmilch.txt','r','cp1252')\n",
    "text = datei.read()\n",
    "datei.close()\n",
    "print(text[:1000])\n",
    "out=codecs.open('Nachtmilch-utf8.txt','w', 'utf8')\n",
    "print(text,file=out)\n",
    "datei.close()\n",
    "out.close()"
   ]
  },
  {
   "cell_type": "markdown",
   "metadata": {},
   "source": [
    "## Text: Seitenstechen"
   ]
  },
  {
   "cell_type": "code",
   "execution_count": 76,
   "metadata": {},
   "outputs": [
    {
     "name": "stdout",
     "output_type": "stream",
     "text": [
      "Wo kommt das Seitenstechen her?\n",
      "\n",
      "Wie ärgerlich: Kurz vor der sportlichen Höchstleistung rauscht plötzlich ein Schmerz durch den Oberkörper das Seitenstechen. Doch wie entstehen die Schmerzen und wie kann man sie bekämpfen? \n",
      "\n",
      "\n",
      "\n",
      "Fast ist es geschafft: Die letzte Stadionrunde im Angriff, der Läufer fliegt dem Ziel entgegen. Der Puls dröhnt, der Atem rast und die Bestzeit lockt. Doch dann zuckt mit einem Mal der Schmerz in die Seite. Unterhalb der Rippen bohrt er sich tief in den Körper - das Seitenstechen. Doch woher kommt es? Und was kann dagegen tun?\n",
      "\n",
      "Der Schmerz kann mehrere Ursachen haben, eine wissenschaftlich eindeutige gibt es bis heute nicht. Klar ist, dass Seitenstechen immer bei starker körperlicher Belastung auftritt, beim Laufen, Schwimmen oder auch beim Radfahren. Klar ist auch, dass die Schmerzen meist bei untrainierten Personen auftreten.\n",
      "\n",
      "Erklärung Nummer eins gibt der Milz die Schuld. Die Milz liegt im linken Oberbauch und hat unter anderem die Aufgabe, Blut zu \n"
     ]
    }
   ],
   "source": [
    "datei = codecs.open('Texte/Seitenstechen.txt','r','cp1252')\n",
    "text = datei.read()\n",
    "datei.close()\n",
    "print(text[:1000])\n",
    "out=codecs.open('Seitenstechen-utf8.txt','w', 'utf8')\n",
    "print(text,file=out)\n",
    "datei.close()\n",
    "out.close()"
   ]
  },
  {
   "cell_type": "markdown",
   "metadata": {},
   "source": [
    "## Text: Spechte"
   ]
  },
  {
   "cell_type": "code",
   "execution_count": 77,
   "metadata": {},
   "outputs": [
    {
     "name": "stdout",
     "output_type": "stream",
     "text": [
      "Warum weinen wir?\n",
      "\n",
      "Wut, Stress, Angst, Trauer oder Staubkörner: Tränen fließen oft und aus unterschiedlichen Gründen. Wer weint, kann so Schmutz aus dem Auge schwemmen - aber hilft es auch, Stress abzubauen? \n",
      "\n",
      "\n",
      "\n",
      "Männer weinen zwar heimlich, wie Herbert Grönemeyer singt, aber sie weinen. Wenn auch deutlich seltener als Frauen: Bei ihnen rollen die Tränen bis zu 17 Mal im Jahr, bei Frauen bis zu 64 Mal, haben Augenärzte der Deutschen Ophthalmologischen Gesellschaft ermittelt. Meistens sind es intensive Gefühle, die die Tränen strömen lassen, deswegen sprechen Forscher auch von \"emotionalen Tränen\". Im Gegensatz zu jenen Tränen, die fließen, wenn ein Staubkorn ins Auge fliegt oder der Wind direkt auf die Augen bläst.\n",
      "\n",
      "Bei diesen nicht-emotionalen Tränen ist die Funktion klar: Sie spülen Fremdkörper aus und schützen das Auge vor Austrocknung. Aber was ist mit den Wut- oder Freudentränen? Welchen biologischen Sinn könnten sie haben? Eine Vermutung lautet: Beim emotionalen Weinen wer\n"
     ]
    }
   ],
   "source": [
    "datei = codecs.open('Texte/Spechte.txt','r','cp1252')\n",
    "text = datei.read()\n",
    "datei.close()\n",
    "print(text[:1000])\n",
    "out=codecs.open('Spechte-utf8.txt','w', 'utf8')\n",
    "print(text,file=out)\n",
    "datei.close()\n",
    "out.close()"
   ]
  },
  {
   "cell_type": "code",
   "execution_count": 78,
   "metadata": {},
   "outputs": [
    {
     "name": "stdout",
     "output_type": "stream",
     "text": [
      "Wie sterben Sprachen?\n",
      "\n",
      "Sprache kann verbinden, trennen - und der Tod einer Sprache kann sogar traumatisieren. Derzeit gibt es etwa 6000 verschiedene Sprachen, ein Drittel davon ist bedroht. Aber warum sterben Sprachen aus? \n",
      "\n",
      "\n",
      "\n",
      "Glaubt man der Bibel, haben wir Gott unser Sprachenwirrwarr zu verdanken. Er soll einst die gemeinsame Sprache verwirrt und über die ganze Erde verstreut haben, nachdem die Menschen versuchten, den Turm Babel zu errichten.\n",
      "\n",
      "Fest steht, dass heute noch rund 6000 verschiedene Kommunikations-Codes auf der Erde existieren. Doch über 2200 Sprachen sind bereits im Weltatlas für bedrohte Sprachen der Unesco erfasst. 576 davon gelten sogar als akut gefährdet. Aber wieso sterben Sprachen überhaupt aus?\n",
      "\n",
      "Zum einen, weil diejenigen, die sie sprechen, verschwinden. \"Bei kleineren Sprachgemeinschaften können beispielsweise Katastrophen oder Völkermord dazu führen, dass alle Sprecher auf einmal sterben\", sagt René Schiering, Vorstandsmitglied der Gesellschaft für Bed\n"
     ]
    }
   ],
   "source": [
    "datei = codecs.open('Texte/Sprachen.txt','r','cp1252')\n",
    "text = datei.read()\n",
    "datei.close()\n",
    "print(text[:1000])\n",
    "out=codecs.open('Sprachen-utf8.txt','w', 'utf8')\n",
    "print(text,file=out)\n",
    "datei.close()\n",
    "out.close()"
   ]
  },
  {
   "cell_type": "code",
   "execution_count": 79,
   "metadata": {},
   "outputs": [
    {
     "name": "stdout",
     "output_type": "stream",
     "text": [
      "Warum Vögel im Schlaf nicht umkippen\n",
      "\n",
      "Vögel schlafen gefährlich. In schwindelerregenden Höhen dösen sie auf Bäumen oder Zäunen seelenruhig vor sich hin und fallen dabei nie herunter. Wie machen sie das? \n",
      "\n",
      "Es kommt öfter vor, dass Menschen aus ihrem Bett fallen - und das von einer Matratze, die meist mehr als doppelt so breit ist wie sie selbst. Einem Vogel könnte das nicht passieren, obwohl ihm ihm ein Schlafplatz von nur wenigen Zentimetern reicht. Die meisten Vögel nächtigen nämlich auf Bäumen. Während seines Schlafes kippt der Piepmatz jedoch nie vom Ast.\n",
      "\n",
      "Das Federvieh tickt anders als der Mensch. Während wir uns anstrengen, die Hand zur Faust zu krümmen, schafft dies der Vogel von ganz allein. Umgekehrt muss er Muskelkraft aufwenden, um seine Krallen zu strecken. Grund ist ein Automatismus: Beim Vogel ist die Kralle stets gekrümmt.\n",
      "\n",
      "So auch nachts. Wenn sich der Mensch zum Schlafen bettet, entspannt sich seine Hand - die Finger sind gestreckt. Wenn es ihm der Vogel gleicht\n"
     ]
    }
   ],
   "source": [
    "datei = codecs.open('Texte/Vögel.txt','r','cp1252')\n",
    "text = datei.read()\n",
    "datei.close()\n",
    "print(text[:1000])\n",
    "out=codecs.open('Vögel-utf8.txt','w', 'utf8')\n",
    "print(text,file=out)\n",
    "datei.close()\n",
    "out.close()"
   ]
  },
  {
   "cell_type": "code",
   "execution_count": 80,
   "metadata": {},
   "outputs": [
    {
     "name": "stdout",
     "output_type": "stream",
     "text": [
      "Warum weinen wir?\n",
      "\n",
      "Wut, Stress, Angst, Trauer oder Staubkörner: Tränen fließen oft und aus unterschiedlichen Gründen. Wer weint, kann so Schmutz aus dem Auge schwemmen - aber hilft es auch, Stress abzubauen? \n",
      "\n",
      "\n",
      "\n",
      "Männer weinen zwar heimlich, wie Herbert Grönemeyer singt, aber sie weinen. Wenn auch deutlich seltener als Frauen: Bei ihnen rollen die Tränen bis zu 17 Mal im Jahr, bei Frauen bis zu 64 Mal, haben Augenärzte der Deutschen Ophthalmologischen Gesellschaft ermittelt. Meistens sind es intensive Gefühle, die die Tränen strömen lassen, deswegen sprechen Forscher auch von \"emotionalen Tränen\". Im Gegensatz zu jenen Tränen, die fließen, wenn ein Staubkorn ins Auge fliegt oder der Wind direkt auf die Augen bläst.\n",
      "\n",
      "Bei diesen nicht-emotionalen Tränen ist die Funktion klar: Sie spülen Fremdkörper aus und schützen das Auge vor Austrocknung. Aber was ist mit den Wut- oder Freudentränen? Welchen biologischen Sinn könnten sie haben? Eine Vermutung lautet: Beim emotionalen Weinen wer\n"
     ]
    }
   ],
   "source": [
    "datei = codecs.open('Texte/Weinen.txt','r','utf8')\n",
    "text = datei.read()\n",
    "datei.close()\n",
    "print(text[:1000])\n",
    "out=codecs.open('Weinen-utf8.txt','w', 'utf8')\n",
    "print(text,file=out)\n",
    "datei.close()\n",
    "out.close()"
   ]
  },
  {
   "cell_type": "code",
   "execution_count": null,
   "metadata": {},
   "outputs": [],
   "source": []
  },
  {
   "cell_type": "code",
   "execution_count": null,
   "metadata": {},
   "outputs": [],
   "source": []
  },
  {
   "cell_type": "code",
   "execution_count": null,
   "metadata": {},
   "outputs": [],
   "source": []
  },
  {
   "cell_type": "code",
   "execution_count": null,
   "metadata": {},
   "outputs": [],
   "source": []
  },
  {
   "cell_type": "code",
   "execution_count": null,
   "metadata": {},
   "outputs": [],
   "source": []
  },
  {
   "cell_type": "code",
   "execution_count": null,
   "metadata": {},
   "outputs": [],
   "source": []
  }
 ],
 "metadata": {
  "kernelspec": {
   "display_name": "Python 3",
   "language": "python",
   "name": "python3"
  },
  "language_info": {
   "codemirror_mode": {
    "name": "ipython",
    "version": 3
   },
   "file_extension": ".py",
   "mimetype": "text/x-python",
   "name": "python",
   "nbconvert_exporter": "python",
   "pygments_lexer": "ipython3",
   "version": "3.8.3"
  }
 },
 "nbformat": 4,
 "nbformat_minor": 4
}
