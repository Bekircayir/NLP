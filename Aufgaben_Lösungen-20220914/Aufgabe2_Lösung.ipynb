{
 "cells": [
  {
   "cell_type": "markdown",
   "metadata": {},
   "source": [
    "## Teil 1##"
   ]
  },
  {
   "cell_type": "code",
   "execution_count": 22,
   "metadata": {},
   "outputs": [
    {
     "name": "stdout",
     "output_type": "stream",
     "text": [
      "Virus\n",
      "Viren\n"
     ]
    }
   ],
   "source": [
    "line=' Corona-Virus. Viren' \n",
    "fundlist=re.findall(r'\\b[Vv]ir[ue][sn]\\b',line)\n",
    "for e in fundlist:\n",
    "    print(e)"
   ]
  },
  {
   "cell_type": "code",
   "execution_count": 29,
   "metadata": {},
   "outputs": [
    {
     "name": "stdout",
     "output_type": "stream",
     "text": [
      "Counter({'Virus': 117, 'Viren': 104, 'Hantavirus': 7, 'Cytomegalievirus': 7, 'Herpesviren': 7, 'Enteroviren': 7, 'Coronavirus': 7, 'Adenovirus': 6, 'Rhinoviren': 6, 'Herpesvirus': 6, 'Noroviren': 5, 'Erkältungsviren': 5, 'Adenoviren': 5, 'Rotaviren': 5, 'Influenzaviren': 4, 'virus': 4, 'Hantaviren': 3, 'Rhinovirus': 3, 'Masernvirus': 2, 'Mumpsvirus': 2, 'Arboviren': 2, 'Coxsackieviren': 2, 'Coronaviren': 2, 'Parainfluenzavirus': 2, 'Grippeviren': 2, 'Astroviren': 2, 'Parvovirus': 2, 'Papillomviren': 2, 'Influenzavirus': 2, 'Arbovirus': 1, 'Mastadenoviren': 1, 'Echoviren': 1, 'Mastadenovirus': 1, 'Parechoviren': 1, 'Exanthemviren': 1, 'Sapoviren': 1, 'Polyomaviren': 1, 'Pockenviren': 1, 'Myxovirus': 1, 'Caliciviren': 1, 'Morbillivirus': 1, 'Papillomvirus': 1, 'Enterovirus': 1, 'Grippevirus': 1, 'Parainfluenzaviren': 1, 'Rotavirus': 1, 'Rötelnvirus': 1, 'Sandmückenfiebervirus': 1, 'Mumpsviren': 1, 'Paramyxoviren': 1, 'Picornaviren': 1, 'Schnupfenviren': 1, 'Poliovirus': 1, 'Schweinegrippeviren': 1, 'Metapneumovirus': 1, 'Alkhurmavirus': 1, 'Gelbfiebervirus': 1, 'Hendravirus': 1, 'Marburgvirus': 1, 'Sindbisvirus': 1, 'Bayouvirus': 1, 'Andesvirus': 1, 'Bermejovirus': 1, 'Choclovirus': 1, 'Araraquaravirus': 1, 'Juquitibavirus': 1, 'Macielvirus': 1})\n"
     ]
    }
   ],
   "source": [
    "import codecs\n",
    "import re\n",
    "import glob\n",
    "from collections import Counter\n",
    "\n",
    "vlist=[] # Liste mit alle gefundene Virus-Namen\n",
    "vcount=Counter() # Wir zählen später die Häufigkeit jedes Virus-Namen\n",
    "\n",
    "filelist=glob.glob('infekt/*.txt') # Liste von Datei-Namen\n",
    "\n",
    "for f in filelist:\n",
    "    datei=codecs.open(f,'r','utf8')\n",
    "    \n",
    "    for line in datei:\n",
    "        \n",
    "        fundliste=re.findall(r'\\b\\w*[Vv]ir[ue][sn]\\b', line) # Die reguläre Ausdrück kann verschiedene sein.\n",
    "        \n",
    "        vcount.update(fundliste) #Zählen was gefundenen wurde. \n",
    "        \n",
    "        for fund in fundliste:\n",
    "            vlist.append(fund)\n",
    "            \n",
    "    datei.close()\n",
    "    \n",
    "print(vcount)"
   ]
  },
  {
   "cell_type": "markdown",
   "metadata": {},
   "source": [
    "## Teil 2##"
   ]
  },
  {
   "cell_type": "code",
   "execution_count": 4,
   "metadata": {},
   "outputs": [
    {
     "name": "stdout",
     "output_type": "stream",
     "text": [
      "[('Virus', 93), ('Herpes-simplex-Virus', 13), ('Herpesvirus', 13), ('Adusovirus', 11), ('Hantavirus', 10), ('Rhinovirus', 9), ('Coronavirus', 9), ('Enterovirus', 8), ('Cytomegalievirus', 7), ('Influuszavirus', 6)] ...\n"
     ]
    }
   ],
   "source": [
    "vlist2=[] # Ersetzen wir alle plurales Form zu die singulare. \n",
    "\n",
    "for v in vlist: #Liste von den voherigen Teil\n",
    "    \n",
    "    virus=re.sub('en','us',v) # Funktion Ersatz\n",
    "    \n",
    "    vlist2.append(virus)\n",
    "    \n",
    "vcount2=Counter(vlist2)\n",
    "print(vcount2.most_common(10),'...')"
   ]
  }
 ],
 "metadata": {
  "kernelspec": {
   "display_name": "Python 3",
   "language": "python",
   "name": "python3"
  },
  "language_info": {
   "codemirror_mode": {
    "name": "ipython",
    "version": 3
   },
   "file_extension": ".py",
   "mimetype": "text/x-python",
   "name": "python",
   "nbconvert_exporter": "python",
   "pygments_lexer": "ipython3",
   "version": "3.8.3"
  }
 },
 "nbformat": 4,
 "nbformat_minor": 4
}
